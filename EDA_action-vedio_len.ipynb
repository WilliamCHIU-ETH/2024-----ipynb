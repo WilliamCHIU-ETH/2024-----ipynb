{
 "cells": [
  {
   "cell_type": "markdown",
   "metadata": {},
   "source": [
    "## EDA: Relationship between Video Length & Number of View Actions\n",
    "\n",
    "In this section, we will explore the relationship between the length of the videos and the number of view actions.\n",
    "\n",
    "### Steps:\n",
    "1. Extract the unique values of video names.\n",
    "2. Calculate the number of reviews for each video.\n",
    "3. Merge the review data with view action counts.\n",
    "4. Calculate the total view actions for each video.\n",
    "5. Calculate the total video length for each video.\n",
    "6. Analyze the correlation between video length and view actions.\n",
    "\n",
    "### Results:\n",
    "- Display the top videos by the number of reviews.\n",
    "- Display the top videos by the number of view actions.\n",
    "- Show the correlation between video length and total view actions.\n",
    "\n",
    "**Correlation between video length and total view actions: 0.7981207829817402**"
   ]
  },
  {
   "cell_type": "markdown",
   "metadata": {},
   "source": [
    "#### Import Package"
   ]
  },
  {
   "cell_type": "code",
   "execution_count": 1,
   "metadata": {},
   "outputs": [],
   "source": [
    "import pandas as pd\n",
    "import numpy as np\n",
    "from sklearn.preprocessing import StandardScaler\n",
    "from sklearn.cluster import KMeans\n",
    "from sklearn.metrics import silhouette_score\n",
    "import matplotlib.pyplot as plt\n",
    "import seaborn as sns\n",
    "from sklearn.decomposition import PCA"
   ]
  },
  {
   "cell_type": "markdown",
   "metadata": {},
   "source": [
    "#### Read csv file"
   ]
  },
  {
   "cell_type": "code",
   "execution_count": 2,
   "metadata": {},
   "outputs": [],
   "source": [
    "# Read the CSV files into DataFrames\n",
    "df_user = pd.read_csv('../2024初賽用開放資料/user_data.csv')\n",
    "df_exam = pd.read_csv('../2024初賽用開放資料/dp001_exam.csv')\n",
    "df_prac = pd.read_csv('../2024初賽用開放資料/dp001_prac.csv')\n",
    "df_review = pd.read_csv('../2024初賽用開放資料/dp001_review.csv')\n",
    "df_review_plus = pd.read_csv('../2024初賽用開放資料/dp001_review_plus.csv')\n",
    "df_exam2 = pd.read_csv('../2024初賽用開放資料/dp002_exam.csv')\n",
    "df_math = pd.read_csv('../2024初賽用開放資料/dp003_math.csv')\n",
    "df_word = pd.read_csv('../2024初賽用開放資料/dp003_word.csv')"
   ]
  },
  {
   "cell_type": "markdown",
   "metadata": {},
   "source": [
    "#### COMBINE Data Frame"
   ]
  },
  {
   "cell_type": "code",
   "execution_count": 3,
   "metadata": {},
   "outputs": [],
   "source": [
    "df_user_review = df_user.merge(df_review, on='user_sn', how='left')\n",
    "df_combined = df_user_review.merge(df_review_plus, on='review_sn', how='left')\n",
    "df_filtered = df_combined[~df_combined['review_sn'].isin(df_exam['review_sn'])]\n",
    "\n",
    "df_filtered.to_csv('df_dp001_review.csv', index=False)\n"
   ]
  },
  {
   "cell_type": "markdown",
   "metadata": {},
   "source": [
    "### Data Analysis\n"
   ]
  },
  {
   "cell_type": "code",
   "execution_count": 4,
   "metadata": {},
   "outputs": [
    {
     "name": "stdout",
     "output_type": "stream",
     "text": [
      "影片總共有： 274 種\n"
     ]
    },
    {
     "data": {
      "text/html": [
       "<div>\n",
       "<style scoped>\n",
       "    .dataframe tbody tr th:only-of-type {\n",
       "        vertical-align: middle;\n",
       "    }\n",
       "\n",
       "    .dataframe tbody tr th {\n",
       "        vertical-align: top;\n",
       "    }\n",
       "\n",
       "    .dataframe thead th {\n",
       "        text-align: right;\n",
       "    }\n",
       "</style>\n",
       "<table border=\"1\" class=\"dataframe\">\n",
       "  <thead>\n",
       "    <tr style=\"text-align: right;\">\n",
       "      <th></th>\n",
       "      <th>video_name</th>\n",
       "      <th>review_sn</th>\n",
       "    </tr>\n",
       "  </thead>\n",
       "  <tbody>\n",
       "    <tr>\n",
       "      <th>74</th>\n",
       "      <td>video:5-n-08-S03</td>\n",
       "      <td>70</td>\n",
       "    </tr>\n",
       "    <tr>\n",
       "      <th>82</th>\n",
       "      <td>video:5-n-10-S05</td>\n",
       "      <td>67</td>\n",
       "    </tr>\n",
       "    <tr>\n",
       "      <th>110</th>\n",
       "      <td>video:5-n-20-S03</td>\n",
       "      <td>65</td>\n",
       "    </tr>\n",
       "    <tr>\n",
       "      <th>93</th>\n",
       "      <td>video:5-n-14-S03</td>\n",
       "      <td>64</td>\n",
       "    </tr>\n",
       "    <tr>\n",
       "      <th>54</th>\n",
       "      <td>video:4-n-15-S02</td>\n",
       "      <td>63</td>\n",
       "    </tr>\n",
       "  </tbody>\n",
       "</table>\n",
       "</div>"
      ],
      "text/plain": [
       "           video_name  review_sn\n",
       "74   video:5-n-08-S03         70\n",
       "82   video:5-n-10-S05         67\n",
       "110  video:5-n-20-S03         65\n",
       "93   video:5-n-14-S03         64\n",
       "54   video:4-n-15-S02         63"
      ]
     },
     "metadata": {},
     "output_type": "display_data"
    }
   ],
   "source": [
    "print('影片總共有：', df_review['video_name'].nunique(),'種')\n",
    "# 計算每個 video_name 對應的 review_sn 數量\n",
    "video_review_counts = df_review.groupby('video_name')['review_sn'].nunique().reset_index()\n",
    "# 按照 review_sn 數量排序並顯示前幾個\n",
    "top_video_reviews = video_review_counts.sort_values(by='review_sn', ascending=False).head()\n",
    "display(top_video_reviews)"
   ]
  },
  {
   "cell_type": "code",
   "execution_count": 5,
   "metadata": {},
   "outputs": [
    {
     "data": {
      "text/html": [
       "<div>\n",
       "<style scoped>\n",
       "    .dataframe tbody tr th:only-of-type {\n",
       "        vertical-align: middle;\n",
       "    }\n",
       "\n",
       "    .dataframe tbody tr th {\n",
       "        vertical-align: top;\n",
       "    }\n",
       "\n",
       "    .dataframe thead th {\n",
       "        text-align: right;\n",
       "    }\n",
       "</style>\n",
       "<table border=\"1\" class=\"dataframe\">\n",
       "  <thead>\n",
       "    <tr style=\"text-align: right;\">\n",
       "      <th></th>\n",
       "      <th>video_name</th>\n",
       "      <th>view_action</th>\n",
       "      <th>video_len</th>\n",
       "      <th>review_sn_count</th>\n",
       "      <th>avg_view_action</th>\n",
       "    </tr>\n",
       "  </thead>\n",
       "  <tbody>\n",
       "    <tr>\n",
       "      <th>119</th>\n",
       "      <td>video:5-s-02-S03</td>\n",
       "      <td>169</td>\n",
       "      <td>228.228</td>\n",
       "      <td>2</td>\n",
       "      <td>84.5</td>\n",
       "    </tr>\n",
       "    <tr>\n",
       "      <th>174</th>\n",
       "      <td>五年級指代詞-1</td>\n",
       "      <td>118</td>\n",
       "      <td>125.226</td>\n",
       "      <td>2</td>\n",
       "      <td>59.0</td>\n",
       "    </tr>\n",
       "    <tr>\n",
       "      <th>69</th>\n",
       "      <td>video:5-n-06-S02</td>\n",
       "      <td>242</td>\n",
       "      <td>585.398</td>\n",
       "      <td>5</td>\n",
       "      <td>48.4</td>\n",
       "    </tr>\n",
       "    <tr>\n",
       "      <th>63</th>\n",
       "      <td>video:5-n-02-S03</td>\n",
       "      <td>215</td>\n",
       "      <td>421.559</td>\n",
       "      <td>5</td>\n",
       "      <td>43.0</td>\n",
       "    </tr>\n",
       "    <tr>\n",
       "      <th>71</th>\n",
       "      <td>video:5-n-07-S02</td>\n",
       "      <td>203</td>\n",
       "      <td>220.541</td>\n",
       "      <td>5</td>\n",
       "      <td>40.6</td>\n",
       "    </tr>\n",
       "  </tbody>\n",
       "</table>\n",
       "</div>"
      ],
      "text/plain": [
       "           video_name  view_action  video_len  review_sn_count  \\\n",
       "119  video:5-s-02-S03          169    228.228                2   \n",
       "174          五年級指代詞-1          118    125.226                2   \n",
       "69   video:5-n-06-S02          242    585.398                5   \n",
       "63   video:5-n-02-S03          215    421.559                5   \n",
       "71   video:5-n-07-S02          203    220.541                5   \n",
       "\n",
       "     avg_view_action  \n",
       "119             84.5  \n",
       "174             59.0  \n",
       "69              48.4  \n",
       "63              43.0  \n",
       "71              40.6  "
      ]
     },
     "metadata": {},
     "output_type": "display_data"
    }
   ],
   "source": [
    "# 1. 提取 video_name 和 review_sn 的對應關係\n",
    "video_review_mapping = df_review[['video_name', 'review_sn', 'video_len']].drop_duplicates()\n",
    "video_review_mapping['video_len'] = video_review_mapping['video_len'].round()\n",
    "\n",
    "# 2. 使用 review_sn 在 df_review_plus 中計算每個 review_sn 的 view_action 數量\n",
    "view_action_counts = df_review_plus.groupby('review_sn')['view_action'].count().reset_index()\n",
    "\n",
    "# 3. 合併 video_review_mapping 和 view_action_counts\n",
    "video_action_counts = video_review_mapping.merge(view_action_counts, on='review_sn', how='left')\n",
    "\n",
    "# 4. 計算每個 video_name 的總 view_action 數量\n",
    "total_action_counts = video_action_counts.groupby('video_name')['view_action'].sum().reset_index()\n",
    "\n",
    "# 5. 計算每個 video_name 的 video_len\n",
    "total_video_len = df_review[['video_name', 'video_len']].drop_duplicates()\n",
    "\n",
    "# 6. 合併 total_action_counts 和 total_video_len\n",
    "video_stats = total_action_counts.merge(total_video_len, on='video_name')\n",
    "\n",
    "# 7. 計算每個 video_name 的 review_sn 數量\n",
    "review_sn_counts = video_review_mapping.groupby('video_name')['review_sn'].count().reset_index()\n",
    "review_sn_counts.rename(columns={'review_sn': 'review_sn_count'}, inplace=True)\n",
    "\n",
    "# 8. 合併 review_sn_counts 和 video_stats\n",
    "video_stats = video_stats.merge(review_sn_counts, on='video_name')\n",
    "\n",
    "# 9. 計算每個 video_name 平均有幾個 view_action\n",
    "video_stats['avg_view_action'] = video_stats['view_action'] / video_stats['review_sn_count']\n",
    "\n",
    "# 按照 avg_view_action 數量排序\n",
    "video_stats_sorted = video_stats.sort_values(by='avg_view_action', ascending=False)\n",
    "display(video_stats_sorted.head())"
   ]
  },
  {
   "cell_type": "markdown",
   "metadata": {},
   "source": [
    "### Finding Correlation"
   ]
  },
  {
   "cell_type": "code",
   "execution_count": 6,
   "metadata": {},
   "outputs": [
    {
     "name": "stdout",
     "output_type": "stream",
     "text": [
      "Correlation between video length and average view actions: 0.20010843181778315\n",
      "Correlation between video length and total view actions: 0.22415525465555694\n"
     ]
    }
   ],
   "source": [
    "# 分析 video_len 和 avg_view_action 之間的相關性\n",
    "correlation = video_stats['video_len'].corr(video_stats['avg_view_action'])\n",
    "print(f\"Correlation between video length and average view actions: {correlation}\")\n",
    "# 分析 video_len 和 view_action 之間的相關性\n",
    "correlation_view_action = video_stats['video_len'].corr(video_stats['view_action'])\n",
    "print(f\"Correlation between video length and total view actions: {correlation_view_action}\")"
   ]
  },
  {
   "cell_type": "markdown",
   "metadata": {},
   "source": [
    "### Conclusion\n",
    "---\n",
    "The analysis indicates that there is **no significant correlation** between <u>video_len</u> and <u>view_action_count</u>\n",
    "\n",
    "It is hypothesized that the number of interactions is related to the difficulty level of the videos. Further analysis is needed to investigate whether `the number of checkpoints` within the videos is correlated with the number of interactions."
   ]
  },
  {
   "cell_type": "markdown",
   "metadata": {},
   "source": [
    "### Check Point\n",
    "---"
   ]
  },
  {
   "cell_type": "code",
   "execution_count": 7,
   "metadata": {},
   "outputs": [
    {
     "name": "stdout",
     "output_type": "stream",
     "text": [
      "沒有檢核點的影片數量有: 157 個\n",
      "有檢核點的影片數量有: 117 個\n"
     ]
    }
   ],
   "source": [
    "#print(df_exam['question_sn'].nunique())\n",
    "# Calculate the number of unique question_sn for each review_sn\n",
    "max_question_sn_counts = df_exam.groupby('review_sn')['question_sn'].nunique().reset_index()\n",
    "\n",
    "# Merge video_review_mapping with max_question_sn_counts\n",
    "video_question_sn_counts = video_review_mapping.merge(max_question_sn_counts, on='review_sn', how='left')\n",
    "\n",
    "# Calculate the maximum number of unique question_sn for each video_name\n",
    "video_max_question_sn_counts = video_question_sn_counts.groupby('video_name')['question_sn'].max().reset_index()\n",
    "\n",
    "# Filter out videos with / without check points\n",
    "videos_with_checkpoints = video_max_question_sn_counts[video_max_question_sn_counts['question_sn'].notna()]\n",
    "videos_without_checkpoints = video_max_question_sn_counts[video_max_question_sn_counts['question_sn'].isna()]\n",
    "\n",
    "# Count the number of videos with / without check points\n",
    "num_videos_with_checkpoints = videos_with_checkpoints.shape[0]\n",
    "num_videos_without_checkpoints = videos_without_checkpoints.shape[0]\n",
    "videos_with_checkpoints = videos_with_checkpoints.merge(video_review_mapping[['video_name', 'video_len']], on='video_name', how='left')\n",
    "print(f\"沒有檢核點的影片數量有: {num_videos_without_checkpoints}\", \"個\")\n",
    "print(f\"有檢核點的影片數量有: {num_videos_with_checkpoints}\",\"個\")"
   ]
  },
  {
   "cell_type": "code",
   "execution_count": null,
   "metadata": {},
   "outputs": [],
   "source": []
  },
  {
   "cell_type": "code",
   "execution_count": null,
   "metadata": {},
   "outputs": [],
   "source": []
  }
 ],
 "metadata": {
  "kernelspec": {
   "display_name": "base",
   "language": "python",
   "name": "python3"
  },
  "language_info": {
   "codemirror_mode": {
    "name": "ipython",
    "version": 3
   },
   "file_extension": ".py",
   "mimetype": "text/x-python",
   "name": "python",
   "nbconvert_exporter": "python",
   "pygments_lexer": "ipython3",
   "version": "3.12.4"
  }
 },
 "nbformat": 4,
 "nbformat_minor": 2
}
