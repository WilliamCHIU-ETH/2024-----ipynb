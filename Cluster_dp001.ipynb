{
 "cells": [
  {
   "cell_type": "code",
   "execution_count": 1,
   "metadata": {},
   "outputs": [],
   "source": [
    "import pandas as pd\n",
    "import numpy as np\n",
    "\n",
    "# Read the CSV files into DataFrames\n",
    "df_user = pd.read_csv('../2024初賽用開放資料/user_data.csv')\n",
    "df_exam = pd.read_csv('../2024初賽用開放資料/dp001_exam.csv')\n",
    "df_prac = pd.read_csv('../2024初賽用開放資料/dp001_prac.csv')\n",
    "df_review = pd.read_csv('../2024初賽用開放資料/dp001_review.csv')\n",
    "df_review_plus = pd.read_csv('../2024初賽用開放資料/dp001_review_plus.csv')\n",
    "df_exam2 = pd.read_csv('../2024初賽用開放資料/dp002_exam.csv')\n",
    "df_math = pd.read_csv('../2024初賽用開放資料/dp003_math.csv')\n",
    "df_word = pd.read_csv('../2024初賽用開放資料/dp003_word.csv')\n",
    "\n"
   ]
  },
  {
   "cell_type": "code",
   "execution_count": 2,
   "metadata": {},
   "outputs": [],
   "source": [
    "df_user = pd.read_csv('../2024初賽用開放資料/user_data.csv')\n",
    "df_exam = pd.read_csv('../2024初賽用開放資料/dp001_exam.csv')\n",
    "df_prac = pd.read_csv('../2024初賽用開放資料/dp001_prac.csv')\n",
    "df_review = pd.read_csv('../2024初賽用開放資料/dp001_review.csv')\n",
    "df_review_plus = pd.read_csv('../2024初賽用開放資料/dp001_review_plus.csv')\n",
    "df_exam2 = pd.read_csv('../2024初賽用開放資料/dp002_exam.csv')\n",
    "df_math = pd.read_csv('../2024初賽用開放資料/dp003_math.csv')\n",
    "df_word = pd.read_csv('../2024初賽用開放資料/dp003_word.csv')\n",
    "\n"
   ]
  },
  {
   "cell_type": "markdown",
   "metadata": {},
   "source": [
    "### COMBINE Data Frame"
   ]
  },
  {
   "cell_type": "code",
   "execution_count": 3,
   "metadata": {},
   "outputs": [],
   "source": [
    "df_user_review = df_user.merge(df_review, on='user_sn', how='left')\n",
    "df_combined = df_user_review.merge(df_review_plus, on='review_sn', how='left')\n",
    "df_filtered = df_combined[~df_combined['review_sn'].isin(df_exam['review_sn'])]\n",
    "\n",
    "df_filtered.to_csv('df_dp001_review.csv', index=False)\n"
   ]
  },
  {
   "cell_type": "markdown",
   "metadata": {},
   "source": [
    "### 資料探勘\n",
    "#### df_filter"
   ]
  },
  {
   "cell_type": "code",
   "execution_count": 4,
   "metadata": {},
   "outputs": [
    {
     "name": "stdout",
     "output_type": "stream",
     "text": [
      "<class 'pandas.core.frame.DataFrame'>\n",
      "Index: 19495 entries, 0 to 70100\n",
      "Data columns (total 23 columns):\n",
      " #   Column           Non-Null Count  Dtype  \n",
      "---  ------           --------------  -----  \n",
      " 0   user_sn          19495 non-null  int64  \n",
      " 1   organization_id  19495 non-null  int64  \n",
      " 2   grade            19495 non-null  int64  \n",
      " 3   class            19495 non-null  int64  \n",
      " 4   seat             19495 non-null  int64  \n",
      " 5   chinese_score    19495 non-null  int64  \n",
      " 6   math_score       19495 non-null  int64  \n",
      " 7   english_score    19495 non-null  int64  \n",
      " 8   review_sn        19458 non-null  float64\n",
      " 9   indicator_name   19458 non-null  object \n",
      " 10  subject_name     19458 non-null  object \n",
      " 11  video_name       19458 non-null  object \n",
      " 12  video_len        19458 non-null  float64\n",
      " 13  start_timestamp  19458 non-null  float64\n",
      " 14  start_time       19458 non-null  object \n",
      " 15  end_timestamp    19458 non-null  float64\n",
      " 16  end_time         19458 non-null  object \n",
      " 17  finish_rate      19458 non-null  float64\n",
      " 18  review_plus_sn   19458 non-null  float64\n",
      " 19  view_time        19458 non-null  object \n",
      " 20  view_action      19458 non-null  object \n",
      " 21  timestamp        19458 non-null  float64\n",
      " 22  turbo            793 non-null    float64\n",
      "dtypes: float64(8), int64(8), object(7)\n",
      "memory usage: 3.6+ MB\n",
      "缺失值\n",
      " review_sn             37\n",
      "indicator_name        37\n",
      "subject_name          37\n",
      "video_name            37\n",
      "video_len             37\n",
      "start_timestamp       37\n",
      "start_time            37\n",
      "end_timestamp         37\n",
      "end_time              37\n",
      "finish_rate           37\n",
      "review_plus_sn        37\n",
      "view_time             37\n",
      "view_action           37\n",
      "timestamp             37\n",
      "turbo              18702\n",
      "dtype: int64\n"
     ]
    }
   ],
   "source": [
    "df_filtered.info()\n",
    "\n",
    "missing_data = df_filtered.isnull().sum()\n",
    "print(\"缺失值\\n\", missing_data[missing_data > 0])\n"
   ]
  },
  {
   "cell_type": "markdown",
   "metadata": {},
   "source": [
    "#### dp_001的資料中有37位使用者只有做practice沒有看影片\n",
    "dp001_prac"
   ]
  },
  {
   "cell_type": "code",
   "execution_count": 5,
   "metadata": {},
   "outputs": [
    {
     "name": "stdout",
     "output_type": "stream",
     "text": [
      "沒有觀看dp001平台影片的學生流水號：  [225274, 247933, 272512, 260608, 296062, 270670, 304753, 283450, 2697, 224032, 216784, 6802, 6828, 14314, 23061, 23415, 30835, 42229, 75997, 79642, 80380, 82762, 87634, 106132, 108886, 4381, 149800, 163096, 169813, 174793, 175582, 183190, 189454, 195388, 209884, 216079, 143323]\n",
      "學生人數為： 37\n"
     ]
    }
   ],
   "source": [
    "# 計算每個 user_sn 在 df_dp001 中的出現次數\n",
    "user_counts = df_filtered['user_sn'].value_counts()\n",
    "single_occurrence_users = user_counts[user_counts.apply(lambda x: x == 1)].index\n",
    "print(\"沒有觀看dp001平台影片的學生流水號： \", single_occurrence_users.tolist())\n",
    "print(\"學生人數為：\", len(single_occurrence_users))"
   ]
  },
  {
   "cell_type": "markdown",
   "metadata": {},
   "source": [
    "#### dp001的資料中有11位的學生沒有做exam以及觀看影片"
   ]
  },
  {
   "cell_type": "code",
   "execution_count": 6,
   "metadata": {},
   "outputs": [],
   "source": [
    "\n",
    "# 計算每個 user_sn 在 df_dp001 中的出現次數\n",
    "#user_counts_dp001 = df_dp001['user_sn'].value_counts()\n",
    "\n",
    "# 篩選出只出現一次的 user_sn\n",
    "#single_occurrence_users_dp001 = user_counts_dp001[user_counts_dp001 == 1].index\n",
    "\n",
    "#print(\"在 dp001 中只出現一次的 user_sn：\", single_occurrence_users_dp001.tolist())\n",
    "#print(\"學生人數為：\", len(single_occurrence_users_dp001))"
   ]
  },
  {
   "cell_type": "code",
   "execution_count": null,
   "metadata": {},
   "outputs": [],
   "source": []
  },
  {
   "cell_type": "code",
   "execution_count": null,
   "metadata": {},
   "outputs": [],
   "source": []
  }
 ],
 "metadata": {
  "kernelspec": {
   "display_name": "base",
   "language": "python",
   "name": "python3"
  },
  "language_info": {
   "codemirror_mode": {
    "name": "ipython",
    "version": 3
   },
   "file_extension": ".py",
   "mimetype": "text/x-python",
   "name": "python",
   "nbconvert_exporter": "python",
   "pygments_lexer": "ipython3",
   "version": "3.12.4"
  }
 },
 "nbformat": 4,
 "nbformat_minor": 2
}
