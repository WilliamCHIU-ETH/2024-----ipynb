{
 "cells": [
  {
   "cell_type": "code",
   "execution_count": 1,
   "metadata": {},
   "outputs": [],
   "source": [
    "import pandas as pd\n",
    "import numpy as np\n",
    "\n",
    "# Read the CSV files into DataFrames\n",
    "df_user = pd.read_csv('../2024初賽用開放資料/user_data.csv')\n",
    "df_exam = pd.read_csv('../2024初賽用開放資料/dp001_exam.csv')\n",
    "df_prac = pd.read_csv('../2024初賽用開放資料/dp001_prac.csv')\n",
    "df_review = pd.read_csv('../2024初賽用開放資料/dp001_review.csv')\n",
    "df_review_plus = pd.read_csv('../2024初賽用開放資料/dp001_review_plus.csv')\n",
    "df_exam2 = pd.read_csv('../2024初賽用開放資料/dp002_exam.csv')\n",
    "df_math = pd.read_csv('../2024初賽用開放資料/dp003_math.csv')\n",
    "df_word = pd.read_csv('../2024初賽用開放資料/dp003_word.csv')\n",
    "\n"
   ]
  },
  {
   "cell_type": "code",
   "execution_count": 2,
   "metadata": {},
   "outputs": [],
   "source": [
    "df_user = pd.read_csv('../2024初賽用開放資料/user_data.csv')\n",
    "df_exam = pd.read_csv('../2024初賽用開放資料/dp001_exam.csv')\n",
    "df_prac = pd.read_csv('../2024初賽用開放資料/dp001_prac.csv')\n",
    "df_review = pd.read_csv('../2024初賽用開放資料/dp001_review.csv')\n",
    "df_review_plus = pd.read_csv('../2024初賽用開放資料/dp001_review_plus.csv')\n",
    "df_exam2 = pd.read_csv('../2024初賽用開放資料/dp002_exam.csv')\n",
    "df_math = pd.read_csv('../2024初賽用開放資料/dp003_math.csv')\n",
    "df_word = pd.read_csv('../2024初賽用開放資料/dp003_word.csv')\n",
    "\n"
   ]
  },
  {
   "cell_type": "markdown",
   "metadata": {},
   "source": [
    "### COMBINE Data Frame"
   ]
  },
  {
   "cell_type": "code",
   "execution_count": 3,
   "metadata": {},
   "outputs": [],
   "source": [
    "df_user_review = df_user.merge(df_review, on='user_sn', how='left')\n",
    "df_combined = df_user_review.merge(df_review_plus, on='review_sn', how='left')\n",
    "df_filtered = df_combined[~df_combined['review_sn'].isin(df_exam['review_sn'])]\n",
    "\n",
    "df_filtered.to_csv('df_dp001_review.csv', index=False)\n"
   ]
  },
  {
   "cell_type": "markdown",
   "metadata": {},
   "source": [
    "### 分群準備\n",
    "#### df_filter \n",
    "合併後有缺值是因為並非每一位學生都有做dp001的練習題, 以及觀看dp001平台的影片"
   ]
  },
  {
   "cell_type": "code",
   "execution_count": 4,
   "metadata": {},
   "outputs": [
    {
     "name": "stdout",
     "output_type": "stream",
     "text": [
      "<class 'pandas.core.frame.DataFrame'>\n",
      "Index: 19495 entries, 0 to 70100\n",
      "Data columns (total 23 columns):\n",
      " #   Column           Non-Null Count  Dtype  \n",
      "---  ------           --------------  -----  \n",
      " 0   user_sn          19495 non-null  int64  \n",
      " 1   organization_id  19495 non-null  int64  \n",
      " 2   grade            19495 non-null  int64  \n",
      " 3   class            19495 non-null  int64  \n",
      " 4   seat             19495 non-null  int64  \n",
      " 5   chinese_score    19495 non-null  int64  \n",
      " 6   math_score       19495 non-null  int64  \n",
      " 7   english_score    19495 non-null  int64  \n",
      " 8   review_sn        19458 non-null  float64\n",
      " 9   indicator_name   19458 non-null  object \n",
      " 10  subject_name     19458 non-null  object \n",
      " 11  video_name       19458 non-null  object \n",
      " 12  video_len        19458 non-null  float64\n",
      " 13  start_timestamp  19458 non-null  float64\n",
      " 14  start_time       19458 non-null  object \n",
      " 15  end_timestamp    19458 non-null  float64\n",
      " 16  end_time         19458 non-null  object \n",
      " 17  finish_rate      19458 non-null  float64\n",
      " 18  review_plus_sn   19458 non-null  float64\n",
      " 19  view_time        19458 non-null  object \n",
      " 20  view_action      19458 non-null  object \n",
      " 21  timestamp        19458 non-null  float64\n",
      " 22  turbo            793 non-null    float64\n",
      "dtypes: float64(8), int64(8), object(7)\n",
      "memory usage: 3.6+ MB\n",
      "缺失值\n",
      " review_sn             37\n",
      "indicator_name        37\n",
      "subject_name          37\n",
      "video_name            37\n",
      "video_len             37\n",
      "start_timestamp       37\n",
      "start_time            37\n",
      "end_timestamp         37\n",
      "end_time              37\n",
      "finish_rate           37\n",
      "review_plus_sn        37\n",
      "view_time             37\n",
      "view_action           37\n",
      "timestamp             37\n",
      "turbo              18702\n",
      "dtype: int64\n"
     ]
    }
   ],
   "source": [
    "df_filtered.info()\n",
    "\n",
    "missing_data = df_filtered.isnull().sum()\n",
    "print(\"缺失值\\n\", missing_data[missing_data > 0])\n"
   ]
  },
  {
   "cell_type": "code",
   "execution_count": 5,
   "metadata": {},
   "outputs": [],
   "source": [
    "import numpy as np\n",
    "import pandas as pd\n",
    "from sklearn.cluster import KMeans\n",
    "\n",
    "# 假設 behavior_counts_scaled 是一個 NumPy 陣列或 pandas DataFrame\n",
    "# 檢查是否有 NaN 值\n",
    "#if np.isnan(behavior_counts_scaled).any():\n",
    "    #raise ValueError(\"behavior_counts_scaled 包含 NaN 值，請處理後再進行聚類。\")\n"
   ]
  },
  {
   "cell_type": "code",
   "execution_count": 6,
   "metadata": {},
   "outputs": [],
   "source": [
    "import pandas as pd\n",
    "import numpy as np\n",
    "from sklearn.preprocessing import StandardScaler\n",
    "from sklearn.cluster import KMeans\n",
    "from sklearn.metrics import silhouette_score\n",
    "\n",
    "# 1. 準備特徵工程\n",
    "def extract_learning_behaviors(df):\n",
    "    # 計算每位學生的學習行為特徵\n",
    "    behavior_features = df.groupby('user_sn').agg({\n",
    "        # 重播次數\n",
    "        'review_sn': 'count', \n",
    "        \n",
    "        # 完成率統計\n",
    "        'finish_rate': ['mean', 'std'],\n",
    "        \n",
    "        # 視頻操作行為\n",
    "        'view_action': lambda x: x.value_counts().get('pause', 0),\n",
    "        \n",
    "        # 時間相關特徵\n",
    "        'start_timestamp': lambda x: np.max(x) - np.min(x),\n",
    "        'end_timestamp': lambda x: np.max(x) - np.min(x),\n",
    "        \n",
    "        # 影片長度相關\n",
    "        'video_len': 'mean',\n",
    "        \n",
    "        # 學習成績\n",
    "        'chinese_score': 'first',\n",
    "        'math_score': 'first',\n",
    "        'english_score': 'first'\n",
    "    }).reset_index()\n",
    "    \n",
    "    # 重命名列\n",
    "    behavior_features.columns = [\n",
    "        'user_sn', \n",
    "        'review_count', \n",
    "        'avg_finish_rate', \n",
    "        'finish_rate_std', \n",
    "        'pause_count', \n",
    "        'learning_duration', \n",
    "        'video_end_duration',\n",
    "        'avg_video_length', \n",
    "        'chinese_score', \n",
    "        'math_score', \n",
    "        'english_score'\n",
    "    ]\n",
    "    \n",
    "    return behavior_features\n"
   ]
  },
  {
   "cell_type": "code",
   "execution_count": 7,
   "metadata": {},
   "outputs": [],
   "source": [
    "\n",
    "# 2. 特徵標準化\n",
    "def preprocess_features(features):\n",
    "    # 排除user_sn列\n",
    "    X = features.drop('user_sn', axis=1)\n",
    "    \n",
    "    # 填補缺失值\n",
    "    X = X.fillna(X.mean())\n",
    "    \n",
    "    # 標準化\n",
    "    scaler = StandardScaler()\n",
    "    X_scaled = scaler.fit_transform(X)\n",
    "    \n",
    "    return X_scaled, X.columns\n"
   ]
  },
  {
   "cell_type": "code",
   "execution_count": 8,
   "metadata": {},
   "outputs": [],
   "source": [
    "\n",
    "# 3. 選擇最佳聚類數\n",
    "def find_optimal_clusters(X_scaled, max_clusters=10):\n",
    "    silhouette_scores = []\n",
    "    \n",
    "    for n_clusters in range(2, max_clusters + 1):\n",
    "        kmeans = KMeans(\n",
    "            n_clusters=n_clusters, \n",
    "            n_init=10, \n",
    "            random_state=42\n",
    "        )\n",
    "        kmeans.fit(X_scaled)\n",
    "        score = silhouette_score(X_scaled, kmeans.labels_)\n",
    "        silhouette_scores.append(score)\n",
    "    \n",
    "    optimal_clusters = silhouette_scores.index(max(silhouette_scores)) + 2\n",
    "    return optimal_clusters\n"
   ]
  },
  {
   "cell_type": "code",
   "execution_count": 9,
   "metadata": {},
   "outputs": [],
   "source": [
    "\n",
    "# 4. 執行K-means分群\n",
    "def perform_clustering(df):\n",
    "    # 提取特徵\n",
    "    behavior_features = extract_learning_behaviors(df)\n",
    "    \n",
    "    # 特徵標準化\n",
    "    X_scaled, feature_names = preprocess_features(behavior_features)\n",
    "    \n",
    "    # 找最佳聚類數\n",
    "    optimal_clusters = find_optimal_clusters(X_scaled)\n",
    "    \n",
    "    # 執行K-means\n",
    "    kmeans = KMeans(\n",
    "        n_clusters=optimal_clusters, \n",
    "        n_init=10, \n",
    "        random_state=42\n",
    "    )\n",
    "    cluster_labels = kmeans.fit_predict(X_scaled)\n",
    "    \n",
    "    # 將分群結果加入結果\n",
    "    result = behavior_features.copy()\n",
    "    result['cluster'] = cluster_labels\n",
    "    \n",
    "    return result, kmeans, X_scaled, feature_names\n"
   ]
  },
  {
   "cell_type": "code",
   "execution_count": 10,
   "metadata": {},
   "outputs": [
    {
     "name": "stdout",
     "output_type": "stream",
     "text": [
      "最佳聚類數: 6\n",
      "\n",
      "各群體特徵:\n",
      "          review_count  avg_finish_rate  pause_count  chinese_score  \\\n",
      "cluster                                                              \n",
      "0          593.941176        70.669700          0.0      72.941176   \n",
      "1           60.428571        59.386071          0.0      75.619048   \n",
      "2           17.333333        61.952381          0.0      81.333333   \n",
      "3          186.636364        62.048206          0.0      80.000000   \n",
      "4          438.000000        84.183869          0.0      56.750000   \n",
      "5          164.777778        57.109273          0.0      42.111111   \n",
      "\n",
      "         math_score  english_score  \n",
      "cluster                             \n",
      "0         50.823529      86.352941  \n",
      "1         50.095238      80.523810  \n",
      "2         61.333333      98.000000  \n",
      "3         57.818182      92.363636  \n",
      "4         39.000000      40.750000  \n",
      "5         27.777778      41.000000  \n"
     ]
    }
   ],
   "source": [
    "\n",
    "# 主執行\n",
    "def main():\n",
    "    # 使用您之前準備的 df_filtered\n",
    "    clustering_result, kmeans_model, scaled_features, feature_names = perform_clustering(df_filtered)\n",
    "    \n",
    "    # 分析每個群體的特徵\n",
    "    cluster_summary = clustering_result.groupby('cluster').agg({\n",
    "        'review_count': 'mean',\n",
    "        'avg_finish_rate': 'mean', \n",
    "        'pause_count': 'mean',\n",
    "        'chinese_score': 'mean',\n",
    "        'math_score': 'mean',\n",
    "        'english_score': 'mean'\n",
    "    })\n",
    "    \n",
    "    print(\"最佳聚類數:\", len(cluster_summary))\n",
    "    print(\"\\n各群體特徵:\\n\", cluster_summary)\n",
    "    \n",
    "    # 儲存結果\n",
    "    clustering_result.to_csv('student_learning_clusters.csv', index=False)\n",
    "    \n",
    "    return clustering_result, cluster_summary\n",
    "\n",
    "# 執行主程式\n",
    "clustering_result, cluster_summary = main()"
   ]
  },
  {
   "cell_type": "code",
   "execution_count": null,
   "metadata": {},
   "outputs": [],
   "source": []
  }
 ],
 "metadata": {
  "kernelspec": {
   "display_name": "base",
   "language": "python",
   "name": "python3"
  },
  "language_info": {
   "codemirror_mode": {
    "name": "ipython",
    "version": 3
   },
   "file_extension": ".py",
   "mimetype": "text/x-python",
   "name": "python",
   "nbconvert_exporter": "python",
   "pygments_lexer": "ipython3",
   "version": "3.12.4"
  }
 },
 "nbformat": 4,
 "nbformat_minor": 2
}
